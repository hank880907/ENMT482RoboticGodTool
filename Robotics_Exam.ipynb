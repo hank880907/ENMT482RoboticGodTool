{
 "cells": [
  {
   "cell_type": "markdown",
   "metadata": {},
   "source": [
    "# Robotics exam"
   ]
  },
  {
   "cell_type": "markdown",
   "metadata": {},
   "source": [
    "## setup and initialisation"
   ]
  },
  {
   "cell_type": "code",
   "execution_count": 1,
   "metadata": {},
   "outputs": [],
   "source": [
    "from ultimateMatrix import *\n",
    "from math import pi\n",
    "from odometryModel import odomCalculator\n",
    "from rotation_matrix import rMatrix\n",
    "from ik_solver import ik_solver"
   ]
  },
  {
   "cell_type": "markdown",
   "metadata": {},
   "source": [
    "## forward kinematics"
   ]
  },
  {
   "cell_type": "code",
   "execution_count": null,
   "metadata": {},
   "outputs": [],
   "source": [
    "print(\"No.1\")\n",
    "t1 = tMatrix(-135, 1, 90 ,0)\n",
    "t2 = tMatrix(-30, 0, -90 , 0)\n",
    "t3 = tMatrix(0, 1, 0, 0)\n",
    "fk: tMatrix = t1*t2*t3\n",
    "print(fk)\n",
    "t1 = tMatrix(45, 1, 90 ,0)\n",
    "t2 = tMatrix(30, 0, -90 , 0)\n",
    "t3 = tMatrix(0, 1, 0, 0)\n",
    "fk: tMatrix = t1*t2*t3\n",
    "# print(t1)\n",
    "# print(t2)\n",
    "# print(t3)\n",
    "print(fk)"
   ]
  },
  {
   "cell_type": "code",
   "execution_count": null,
   "metadata": {},
   "outputs": [],
   "source": [
    "print(\"No.2\")\n",
    "t1 = tMatrix(\"theta1\", 0, 0 ,0)\n",
    "t2 = tMatrix(0, \"d2+a2*sin(30)\", 90 ,\"a2*cos(30)\")\n",
    "t3 = tMatrix(\"theta3\", 0, 90, \"a3\")\n",
    "t4 = tMatrix(\"theta4\", 0, 0, 0)\n",
    "fk: tMatrix = t1*t2*t3*t4\n",
    "print(t1)\n",
    "print(t2)\n",
    "print(t3)\n",
    "print(t4)\n",
    "print(fk)"
   ]
  },
  {
   "cell_type": "code",
   "execution_count": null,
   "metadata": {},
   "outputs": [],
   "source": [
    "print(\"No.3\")\n",
    "t1 = tMatrix(0, 0, 0 ,0)\n",
    "t2 = tMatrix(0, 0, 0 ,0)\n",
    "t3 = tMatrix(0, 0, 0, 0)\n",
    "t4 = tMatrix(0, 0, 0, 0)\n",
    "t5 = tMatrix(0, 0, 0, 0)\n",
    "fk: tMatrix = t1*t2*t3*t4*t5\n",
    "print(t1)\n",
    "print(t2)\n",
    "print(t3)\n",
    "print(t4)\n",
    "print(t5)\n",
    "print(fk)"
   ]
  },
  {
   "cell_type": "markdown",
   "metadata": {},
   "source": [
    "## Inverse Kinematics"
   ]
  },
  {
   "cell_type": "code",
   "execution_count": null,
   "metadata": {},
   "outputs": [],
   "source": [
    "print(\"2019 exam\")\n",
    "t1 = tMatrix(\"theta1\", \"L1\", 90 ,0)\n",
    "t2 = tMatrix(\"theta2\", 0, -90 , 0)\n",
    "t3 = tMatrix(\"theta3\", \"L2\", 0, 0)\n",
    "fk: tMatrix = t1*t2*t3\n",
    "print(fk)\n",
    "\n",
    "target = [\n",
    "[0.6124,     -0.7071,     -0.3536 ,     -0.3536],     \n",
    "[0.6124,      0.7071,     -0.3536,     -0.3536],     \n",
    "[0.500,           0 ,     0.8660   ,     1.8660],     \n",
    "[0    ,     0     ,     0     ,     1    ]]\n",
    "\n",
    "ik = fk.ik(target)\n",
    "for key in ik:\n",
    "    if f\"{key}\".find(\"theta\") != -1:\n",
    "        print(f\"{key} = {ik[key]*180/pi:.2f}\")\n",
    "    else:\n",
    "        print(f\"{key} = {ik[key]:.2f}\")\n",
    "        "
   ]
  },
  {
   "cell_type": "code",
   "execution_count": null,
   "metadata": {},
   "outputs": [],
   "source": [
    "print(\"2020 exam\")\n",
    "t1 = tMatrix(\"theta1\", 0, 0 ,250)\n",
    "t2 = tMatrix(\"theta2\", 0, 0 , 400)\n",
    "t3 = tMatrix(0, \"d3\", 0, 0)\n",
    "t4 = tMatrix(\"theta4\", 0, 0, 0.5)\n",
    "fk: tMatrix = t1*t2*t3*t4\n",
    "\n",
    "target = [\n",
    "[0.7071,     -0.7071,     0,    576.78],     \n",
    "[0.7071,     0.7071 ,     0,    176.78],     \n",
    "[0     ,     0      ,     1,    100   ],     \n",
    "[0     ,     0      ,     0,    1     ]]\n",
    "\n",
    "ik = fk.ik(target)\n",
    "for key in ik:\n",
    "    if f\"{key}\".find(\"theta\") != -1:\n",
    "        print(f\"{key} = {ik[key]*180/pi:.2f}\")\n",
    "    else:\n",
    "        print(f\"{key} = {ik[key]:.2f}\")"
   ]
  },
  {
   "cell_type": "code",
   "execution_count": null,
   "metadata": {},
   "outputs": [],
   "source": [
    "x = 0.4254\n",
    "y = 0.2577\n",
    "l1 = 0.3\n",
    "l2 = 0.2\n",
    "cos_val = 0.4226\n",
    "ik = ik_solver(x, y, l1, l2, cos_val)\n",
    "print(ik)"
   ]
  },
  {
   "cell_type": "markdown",
   "metadata": {},
   "source": [
    "## Jacobian\n",
    "credit: Sam Hogan"
   ]
  },
  {
   "cell_type": "code",
   "execution_count": 3,
   "metadata": {},
   "outputs": [
    {
     "name": "stdout",
     "output_type": "stream",
     "text": [
      "2019 Exam Q2b\n",
      "_______________________________________uMatrix______________________________________\n",
      "\n",
      "cos(θ₁)⋅cos(θ₂ + θ₃)     -sin(θ₂ + θ₃)⋅cos(θ₁)     sin(θ₁)      cos(θ₁)⋅cos(θ₂)     \n",
      "sin(θ₁)⋅cos(θ₂ + θ₃)     -sin(θ₁)⋅sin(θ₂ + θ₃)     -cos(θ₁)     sin(θ₁)⋅cos(θ₂)     \n",
      "sin(θ₂ + θ₃)             cos(θ₂ + θ₃)              0.0          sin(θ₂) + 1         \n",
      "0                        0                         0            1                   \n",
      "____________________________________________________________________________________\n",
      "\n",
      "i =  0 __________________________________________________________________________________________\n",
      "T   =_________uMatrix________\n",
      "\n",
      "1     0     0     0     \n",
      "0     1     0     0     \n",
      "0     0     1     0     \n",
      "0     0     0     1     \n",
      "_________________________\n",
      "\n",
      "Z   = Matrix([[0], [0], [1]])\n",
      "P   = Matrix([[0], [0], [0]])\n",
      "r   = Matrix([[cos(theta1)*cos(theta2)], [sin(theta1)*cos(theta2)], [sin(theta2) + 1]])\n",
      "zxr = Matrix([[-sin(theta1)*cos(theta2)], [cos(theta1)*cos(theta2)], [0]])\n",
      "col = Matrix([[-sin(theta1)*cos(theta2)], [cos(theta1)*cos(theta2)], [0], [0], [0], [1]])\n",
      "____________________________________________________________________________________________________\n",
      "i =  1 __________________________________________________________________________________________\n",
      "T   =_______________uMatrix______________\n",
      "\n",
      "cos(θ₁)     0     sin(θ₁)      0     \n",
      "sin(θ₁)     0     -cos(θ₁)     0     \n",
      "0           1     0.0          1     \n",
      "0           0     0            1     \n",
      "_____________________________________\n",
      "\n",
      "Z   = Matrix([[sin(theta1)], [-cos(theta1)], [0]])\n",
      "P   = Matrix([[0], [0], [1]])\n",
      "r   = Matrix([[cos(theta1)*cos(theta2)], [sin(theta1)*cos(theta2)], [sin(theta2)]])\n",
      "zxr = Matrix([[-sin(theta2)*cos(theta1)], [-sin(theta1)*sin(theta2)], [sin(theta1)**2*cos(theta2) + cos(theta1)**2*cos(theta2)]])\n",
      "col = Matrix([[-sin(theta2)*cos(theta1)], [-sin(theta1)*sin(theta2)], [sin(theta1)**2*cos(theta2) + cos(theta1)**2*cos(theta2)], [sin(theta1)], [-cos(theta1)], [0]])\n",
      "____________________________________________________________________________________________________\n",
      "i =  2 __________________________________________________________________________________________\n",
      "T   =__________________________________uMatrix_________________________________\n",
      "\n",
      "cos(θ₁)⋅cos(θ₂)     -sin(θ₂)⋅cos(θ₁)     sin(θ₁)      cos(θ₁)⋅cos(θ₂)     \n",
      "sin(θ₁)⋅cos(θ₂)     -sin(θ₁)⋅sin(θ₂)     -cos(θ₁)     sin(θ₁)⋅cos(θ₂)     \n",
      "sin(θ₂)             cos(θ₂)              0.0          sin(θ₂) + 1         \n",
      "0                   0                    0            1                   \n",
      "__________________________________________________________________________\n",
      "\n",
      "Z   = Matrix([[sin(theta1)], [-cos(theta1)], [0]])\n",
      "P   = Matrix([[cos(theta1)*cos(theta2)], [sin(theta1)*cos(theta2)], [sin(theta2) + 1]])\n",
      "r   = Matrix([[0], [0], [0]])\n",
      "zxr = Matrix([[0], [0], [0]])\n",
      "col = Matrix([[0], [0], [0], [sin(theta1)], [-cos(theta1)], [0]])\n",
      "____________________________________________________________________________________________________\n",
      "====================================================================================================\n",
      "JACOBIAN BELOW\n",
      "====================================================================================================\n",
      "-sin(θ₁)⋅cos(θ₂)               | -sin(θ₂)⋅cos(θ₁)               | 0                             \n",
      "cos(θ₁)⋅cos(θ₂)                | -sin(θ₁)⋅sin(θ₂)               | 0                             \n",
      "0                              | cos(θ₂)                        | 0                             \n",
      "0                              | sin(θ₁)                        | sin(θ₁)                       \n",
      "0                              | -cos(θ₁)                       | -cos(θ₁)                      \n",
      "1                              | 0                              | 0                             \n"
     ]
    }
   ],
   "source": [
    "print(\"2019 Exam Q2b\")\n",
    "t0 = tMatrix(0, 0, 0, 0)\n",
    "t1 = tMatrix(\"theta1\", 1, 90, 0)\n",
    "t2 = tMatrix(\"theta2\", 0,0,1)\n",
    "t3 = tMatrix(\"theta3\", 0,0,0)\n",
    "# t4 = tMatrix(0,0,0,\"L3\")\n",
    "overall = t1*t2*t3\n",
    "print(overall)\n",
    "\n",
    "jacobian = jacobian_god_function([t0, t1, t2, t3], (False, False, False))"
   ]
  },
  {
   "cell_type": "code",
   "execution_count": 2,
   "metadata": {},
   "outputs": [
    {
     "name": "stdout",
     "output_type": "stream",
     "text": [
      "Jacobian Homework Q2\n",
      "i =  0 __________________________________________________________________________________________\n",
      "T   =_________uMatrix________\n",
      "\n",
      "1     0     0     0     \n",
      "0     1     0     0     \n",
      "0     0     1     0     \n",
      "0     0     0     1     \n",
      "_________________________\n",
      "\n",
      "Z   = Matrix([[0], [0], [1]])\n",
      "P   = Matrix([[0], [0], [0]])\n",
      "r   = Matrix([[0], [-d2 + sin(theta3)], [d1 + cos(theta3)]])\n",
      "zxr = Matrix([[d2 - sin(theta3)], [0], [0]])\n",
      "col = Matrix([[0], [0], [1], [0], [0], [0]])\n",
      "____________________________________________________________________________________________________\n",
      "i =  1 __________________________________________________________________________________________\n",
      "T   =_________uMatrix________\n",
      "\n",
      "1     0       0       0      \n",
      "0     0.0     -1      0      \n",
      "0     1       0.0     d₁     \n",
      "0     0       0       1      \n",
      "_________________________\n",
      "\n",
      "Z   = Matrix([[0], [-1], [0]])\n",
      "P   = Matrix([[0], [0], [d1]])\n",
      "r   = Matrix([[0], [-d2 + sin(theta3)], [cos(theta3)]])\n",
      "zxr = Matrix([[-cos(theta3)], [0], [0]])\n",
      "col = Matrix([[0], [-1], [0], [0], [0], [0]])\n",
      "____________________________________________________________________________________________________\n",
      "i =  2 __________________________________________________________________________________________\n"
     ]
    },
    {
     "name": "stderr",
     "output_type": "stream",
     "text": [
      "/Users/wujihan/Documents/ENMT482/enmt482_exam/.venv/lib/python3.9/site-packages/sympy/matrices/repmatrix.py:98: SymPyDeprecationWarning: \n",
      "\n",
      "non-Expr objects in a Matrix has been deprecated since SymPy 1.9. Use\n",
      "list of lists, TableForm or some other data structure instead. See\n",
      "https://github.com/sympy/sympy/issues/21497 for more info.\n",
      "\n",
      "  SymPyDeprecationWarning(\n"
     ]
    },
    {
     "name": "stdout",
     "output_type": "stream",
     "text": [
      "T   =____________uMatrix___________\n",
      "\n",
      "0.0     0.0     -1      0       \n",
      "0.0     1       0.0     -d₂     \n",
      "1       0.0     0.0     d₁      \n",
      "0       0       0       1       \n",
      "______________________________\n",
      "\n",
      "Z   = Matrix([[-1], [0], [0]])\n",
      "P   = Matrix([[0], [-d2], [d1]])\n",
      "r   = Matrix([[0], [sin(theta3)], [cos(theta3)]])\n",
      "zxr = Matrix([[0], [cos(theta3)], [-sin(theta3)]])\n",
      "col = Matrix([[0], [cos(theta3)], [-sin(theta3)], [-1], [0], [0]])\n",
      "____________________________________________________________________________________________________\n",
      "====================================================================================================\n",
      "JACOBIAN BELOW\n",
      "====================================================================================================\n",
      "[0]                            | [0]                            | 0                             \n",
      "[0]                            | [-1]                           | cos(θ₃)                       \n",
      "[1]                            | [0]                            | -sin(θ₃)                      \n",
      "0                              | 0                              | -1                            \n",
      "0                              | 0                              | 0                             \n",
      "0                              | 0                              | 0                             \n"
     ]
    }
   ],
   "source": [
    "print(\"Jacobian Homework Q2\")\n",
    "t0 = tMatrix(0, 0, 0, 0)\n",
    "t1 = tMatrix(0, 'd1', 90, 0)\n",
    "t2 = tMatrix(90, 'd2',-90,0)\n",
    "t3 = tMatrix(\"theta3\", 0,0,1)\n",
    "\n",
    "jacobian = jacobian_god_function([t0, t1, t2, t3], (True, True, False)) # note True for the first two joints as they are prismatic"
   ]
  },
  {
   "cell_type": "markdown",
   "metadata": {},
   "source": [
    "## Odometry model"
   ]
  },
  {
   "cell_type": "code",
   "execution_count": null,
   "metadata": {},
   "outputs": [],
   "source": [
    "odomPose1 = [1,0,0]\n",
    "odomPose2 = [2,0,0]\n",
    "robotPose = [6,1,pi/2]\n",
    "cal = odomCalculator(odomPose1,odomPose2,robotPose)\n",
    "print (cal)\n"
   ]
  },
  {
   "cell_type": "code",
   "execution_count": null,
   "metadata": {},
   "outputs": [],
   "source": [
    "odomPose1 = [0,1,0]\n",
    "odomPose2 = [4,4,0]\n",
    "robotPose = [0,0,0]\n",
    "cal = odomCalculator(odomPose1,odomPose2,robotPose)\n",
    "print (cal)"
   ]
  },
  {
   "cell_type": "markdown",
   "metadata": {},
   "source": [
    "## BLUE calculator"
   ]
  },
  {
   "cell_type": "code",
   "execution_count": null,
   "metadata": {},
   "outputs": [],
   "source": [
    "var1 = 0.25\n",
    "var2 = 1\n",
    "\n",
    "weight1 = (1/var1)/(1/var1+1/var2)\n",
    "weight2 = (1/var2)/(1/var1+1/var2)\n",
    "print(f\"w1 = {weight1:.2f}, w2 = {weight2:.2f}\")\n",
    "\n",
    "print(f\"BLUE = {weight1:.2f}*X1 + {weight2:.2f}*X2\")"
   ]
  },
  {
   "cell_type": "markdown",
   "metadata": {},
   "source": [
    "## Rotation matrix"
   ]
  },
  {
   "cell_type": "code",
   "execution_count": null,
   "metadata": {},
   "outputs": [],
   "source": [
    "r = rMatrix('xz',[-90,180])\n",
    "print(r)"
   ]
  }
 ],
 "metadata": {
  "interpreter": {
   "hash": "e81ccf4f9e4b0a08d1abafc8dad68a6a3e8421989e992da08e620279fc59e849"
  },
  "kernelspec": {
   "display_name": "Python 3.9.7 64-bit ('.venv': venv)",
   "name": "python3"
  },
  "language_info": {
   "codemirror_mode": {
    "name": "ipython",
    "version": 3
   },
   "file_extension": ".py",
   "mimetype": "text/x-python",
   "name": "python",
   "nbconvert_exporter": "python",
   "pygments_lexer": "ipython3",
   "version": "3.9.7"
  },
  "orig_nbformat": 4
 },
 "nbformat": 4,
 "nbformat_minor": 2
}
