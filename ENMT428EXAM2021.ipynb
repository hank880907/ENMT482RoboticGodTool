{
 "cells": [
  {
   "cell_type": "markdown",
   "metadata": {},
   "source": [
    "# ENMT428 2021 EXAM"
   ]
  },
  {
   "cell_type": "markdown",
   "metadata": {},
   "source": [
    "# Setup"
   ]
  },
  {
   "cell_type": "code",
   "execution_count": 8,
   "metadata": {},
   "outputs": [],
   "source": [
    "from ultimateMatrix import *\n",
    "from math import pi\n",
    "from odometryModel import odomCalculator\n",
    "from rotation_matrix import rMatrix\n",
    "from ik_solver import ik_solver"
   ]
  },
  {
   "cell_type": "markdown",
   "metadata": {},
   "source": [
    "# Q1"
   ]
  },
  {
   "cell_type": "code",
   "execution_count": 9,
   "metadata": {},
   "outputs": [
    {
     "name": "stdout",
     "output_type": "stream",
     "text": [
      "Question 1\n",
      "t1 =\n",
      " \n",
      "________Matrix____________\n",
      "\n",
      "cos(θ₁)   -sin(θ₁)   0   0   \n",
      "sin(θ₁)   cos(θ₁)    0   0   \n",
      "0         0          1   0   \n",
      "0         0          0   1   \n",
      "__________________________\n",
      "\n",
      "t2 =\n",
      " \n",
      "_________Matrix_____________\n",
      "\n",
      "1   0   0   300⋅cos(30)        \n",
      "0   0.0 -1  0                  \n",
      "0   1   0.0 d₂ + 300⋅sin(30)   \n",
      "0   0   0   1                  \n",
      "____________________________\n",
      "\n",
      "t3 =\n",
      " \n",
      "____________Matrix________________\n",
      "\n",
      "cos(θ₃)   0   sin(θ₃)   50⋅cos(θ₃)   \n",
      "sin(θ₃)   0   -cos(θ₃)  50⋅sin(θ₃)   \n",
      "0         1   0.0       0            \n",
      "0         0   0         1            \n",
      "__________________________________\n",
      "\n",
      "t4 =\n",
      " \n",
      "________Matrix____________\n",
      "\n",
      "cos(θ₄)   -sin(θ₄)   0   0   \n",
      "sin(θ₄)   cos(θ₄)    0   0   \n",
      "0         0          1   0   \n",
      "0         0          0   1   \n",
      "__________________________\n",
      "\n",
      "fk =\n",
      " \n",
      "____________________________________________________________________Matrix________________________________________________________________________\n",
      "\n",
      "sin(θ₁)⋅sin(θ₄) + cos(θ₁)⋅cos(θ₃)⋅cos(θ₄)   sin(θ₁)⋅cos(θ₄) - sin(θ₄)⋅cos(θ₁)⋅cos(θ₃)   sin(θ₃)⋅cos(θ₁)   50⋅cos(θ₁)⋅cos(θ₃) + 300⋅cos(30)⋅cos(θ₁)   \n",
      "sin(θ₁)⋅cos(θ₃)⋅cos(θ₄) - sin(θ₄)⋅cos(θ₁)   -sin(θ₁)⋅sin(θ₄)⋅cos(θ₃) - cos(θ₁)⋅cos(θ₄)  sin(θ₁)⋅sin(θ₃)   50⋅sin(θ₁)⋅cos(θ₃) + 300⋅sin(θ₁)⋅cos(30)   \n",
      "sin(θ₃)⋅cos(θ₄)                             -sin(θ₃)⋅sin(θ₄)                            -cos(θ₃)          d₂ + 50⋅sin(θ₃) + 300⋅sin(30)              \n",
      "0                                           0                                           0                 1                                          \n",
      "__________________________________________________________________________________________________________________________________________________\n",
      "\n"
     ]
    }
   ],
   "source": [
    "print(\"Question 1\")\n",
    "t1 = tMatrix(\"theta1\",  0,                  0,  0)\n",
    "t2 = tMatrix(0,         \"d2+300*sin(30)\",   90, \"300*cos(30)\")\n",
    "t3 = tMatrix(\"theta3\",  0,                  90, 50)\n",
    "t4 = tMatrix(\"theta4\",  0,                  0,  0)\n",
    "\n",
    "fk: tMatrix = t1*t2*t3*t4\n",
    "print(f\"t1 =\\n {t1}\")\n",
    "print(f\"t2 =\\n {t2}\")\n",
    "print(f\"t3 =\\n {t3}\")\n",
    "print(f\"t4 =\\n {t4}\")\n",
    "print(f\"fk =\\n {fk}\")\n"
   ]
  },
  {
   "cell_type": "code",
   "execution_count": 10,
   "metadata": {},
   "outputs": [
    {
     "name": "stdout",
     "output_type": "stream",
     "text": [
      "0.00\t-0.87\t0.50\t\n",
      "1.00\t0.00\t0.00\t\n",
      "0.00\t0.50\t0.87\t\n",
      "\n"
     ]
    }
   ],
   "source": [
    "r = rMatrix('yz',[30,90])\n",
    "print(r)"
   ]
  },
  {
   "cell_type": "code",
   "execution_count": 11,
   "metadata": {},
   "outputs": [
    {
     "name": "stdout",
     "output_type": "stream",
     "text": [
      "-0.98\t-0.17\t0.00\t\n",
      "0.17\t-0.98\t0.00\t\n",
      "0.00\t0.00\t1.00\t\n",
      "\n"
     ]
    }
   ],
   "source": [
    "r = rMatrix('z',[170])\n",
    "print(r)"
   ]
  },
  {
   "cell_type": "markdown",
   "metadata": {},
   "source": [
    "# Q2"
   ]
  },
  {
   "cell_type": "code",
   "execution_count": 15,
   "metadata": {},
   "outputs": [
    {
     "name": "stdout",
     "output_type": "stream",
     "text": [
      "Question 2\n",
      "\n",
      "___________________________Matrix_______________________________\n",
      "\n",
      "cos(θ₁)⋅cos(θ₂)   sin(θ₁)   sin(θ₂)⋅cos(θ₁)   d₃⋅sin(θ₂)⋅cos(θ₁)   \n",
      "sin(θ₁)⋅cos(θ₂)   -cos(θ₁)  sin(θ₁)⋅sin(θ₂)   d₃⋅sin(θ₁)⋅sin(θ₂)   \n",
      "sin(θ₂)           0.0       -cos(θ₂)          -d₃⋅cos(θ₂)          \n",
      "0                 0         0                 1                    \n",
      "________________________________________________________________\n",
      "\n",
      "theta1 = 60.00\n",
      "theta2 = 75.00\n",
      "d3 = 200.00\n"
     ]
    }
   ],
   "source": [
    "print(\"Question 2\")\n",
    "t1 = tMatrix(\"theta1\",  0,      90, 0)\n",
    "t2 = tMatrix(\"theta2\",  0,      90, 0)\n",
    "t3 = tMatrix(0,         \"d3\",   0,  0)\n",
    "fk: tMatrix = t1*t2*t3\n",
    "print(fk)\n",
    "\n",
    "target = [\n",
    "[0.1294,     0.8660,     0.4830 ,     96.59],     \n",
    "[0.2241,      -0.500,     0.8365,     167.30],     \n",
    "[0.9659,           0 ,     -0.2588   ,     -51.76],     \n",
    "[0    ,     0     ,     0     ,     1    ]]\n",
    "\n",
    "ik = fk.ik(target)\n",
    "for key in ik:\n",
    "    if f\"{key}\".find(\"theta\") != -1:\n",
    "        print(f\"{key} = {ik[key]*180/pi:.2f}\")\n",
    "    else:\n",
    "        print(f\"{key} = {ik[key]:.2f}\")"
   ]
  },
  {
   "cell_type": "code",
   "execution_count": 13,
   "metadata": {},
   "outputs": [
    {
     "name": "stdout",
     "output_type": "stream",
     "text": [
      "Question 2\n",
      "\n",
      "____________Matrix________________\n",
      "\n",
      "0.1294   0.8660   0.4830   96.5926   \n",
      "0.2241   -0.5000  0.8365   167.3033  \n",
      "0.9659   0.0      -0.2588  -51.7638  \n",
      "0        0        0        1         \n",
      "__________________________________\n",
      "\n"
     ]
    }
   ],
   "source": [
    "print(\"Question 2\")\n",
    "t1 = tMatrix(60,  0,      90, 0)\n",
    "t2 = tMatrix(75,  0,      90, 0)\n",
    "t3 = tMatrix(0,         200.00,   0,  0)\n",
    "fk: tMatrix = t1*t2*t3\n",
    "fk.precision = 4\n",
    "print(fk)\n",
    "\n"
   ]
  },
  {
   "cell_type": "code",
   "execution_count": 16,
   "metadata": {},
   "outputs": [
    {
     "name": "stdout",
     "output_type": "stream",
     "text": [
      "\n",
      "_________________________Matrix_____________________________\n",
      "\n",
      "-d₃⋅sin(θ₁)⋅sin(θ₂)   d₃⋅cos(θ₁)⋅cos(θ₂)   [sin(θ₂)⋅cos(θ₁)]   \n",
      "d₃⋅sin(θ₂)⋅cos(θ₁)    d₃⋅sin(θ₁)⋅cos(θ₂)   [sin(θ₁)⋅sin(θ₂)]   \n",
      "0                     d₃⋅sin(θ₂)           [-cos(θ₂)]          \n",
      "0                     sin(θ₁)              0                   \n",
      "0                     -cos(θ₁)             0                   \n",
      "1                     0                    0                   \n",
      "____________________________________________________________\n",
      "\n"
     ]
    }
   ],
   "source": [
    "# print(fk)\n",
    "t0 = tMatrix(0, 0, 0, 0)\n",
    "jacobian = jacobian_god_function([t0, t1, t2, t3], (False, False, True), verbose=False)\n",
    "\n",
    "# print('=' * 100)\n",
    "# print('JACOBIAN BELOW')\n",
    "# print('=' * 100)\n",
    "print(jacobian)"
   ]
  }
 ],
 "metadata": {
  "interpreter": {
   "hash": "aee8b7b246df8f9039afb4144a1f6fd8d2ca17a180786b69acc140d282b71a49"
  },
  "kernelspec": {
   "display_name": "Python 3.9.7 64-bit",
   "name": "python3"
  },
  "language_info": {
   "codemirror_mode": {
    "name": "ipython",
    "version": 3
   },
   "file_extension": ".py",
   "mimetype": "text/x-python",
   "name": "python",
   "nbconvert_exporter": "python",
   "pygments_lexer": "ipython3",
   "version": "3.9.7"
  },
  "orig_nbformat": 4
 },
 "nbformat": 4,
 "nbformat_minor": 2
}
