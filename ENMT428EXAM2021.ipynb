{
 "cells": [
  {
   "cell_type": "markdown",
   "metadata": {},
   "source": [
    "# ENMT428 2021 EXAM"
   ]
  },
  {
   "cell_type": "markdown",
   "metadata": {},
   "source": [
    "# Setup"
   ]
  },
  {
   "cell_type": "code",
   "execution_count": 1,
   "metadata": {},
   "outputs": [],
   "source": [
    "from ultimateMatrix import *\n",
    "from math import pi\n",
    "from odometryModel import odomCalculator\n",
    "from rotation_matrix import rMatrix\n",
    "from ik_solver import ik_solver"
   ]
  },
  {
   "cell_type": "markdown",
   "metadata": {},
   "source": [
    "# Q1"
   ]
  },
  {
   "cell_type": "code",
   "execution_count": null,
   "metadata": {},
   "outputs": [],
   "source": [
    "print(\"Question 1\")\n",
    "t1 = tMatrix(\"theta1\",  0,                  0,  0)\n",
    "t2 = tMatrix(0,         \"d2+300*sin(30)\",   90, \"300*cos(30)\")\n",
    "t3 = tMatrix(\"theta3\",  0,                  90, 50)\n",
    "t4 = tMatrix(\"theta4\",  0,                  0,  0)\n",
    "\n",
    "fk: tMatrix = t1*t2*t3*t4\n",
    "print(f\"t1 =\\n {t1}\")\n",
    "print(f\"t2 =\\n {t2}\")\n",
    "print(f\"t3 =\\n {t3}\")\n",
    "print(f\"t4 =\\n {t4}\")\n",
    "print(f\"fk =\\n {fk}\")\n"
   ]
  },
  {
   "cell_type": "code",
   "execution_count": null,
   "metadata": {},
   "outputs": [],
   "source": [
    "r = rMatrix('yz',[30,90])\n",
    "print(r)"
   ]
  },
  {
   "cell_type": "code",
   "execution_count": null,
   "metadata": {},
   "outputs": [],
   "source": [
    "r = rMatrix('z',[170])\n",
    "print(r)"
   ]
  },
  {
   "cell_type": "markdown",
   "metadata": {},
   "source": [
    "# Q2"
   ]
  },
  {
   "cell_type": "code",
   "execution_count": 2,
   "metadata": {},
   "outputs": [
    {
     "name": "stdout",
     "output_type": "stream",
     "text": [
      "Question 2\n",
      "___________________________________uMatrix__________________________________\n",
      "\n",
      "cos(θ₁)⋅cos(θ₂)     sin(θ₁)      sin(θ₂)⋅cos(θ₁)     d₃⋅sin(θ₂)⋅cos(θ₁)     \n",
      "sin(θ₁)⋅cos(θ₂)     -cos(θ₁)     sin(θ₁)⋅sin(θ₂)     d₃⋅sin(θ₁)⋅sin(θ₂)     \n",
      "sin(θ₂)             0.0          -cos(θ₂)            -d₃⋅cos(θ₂)            \n",
      "0                   0            0                   1                      \n",
      "____________________________________________________________________________\n",
      "\n",
      "theta1 = 60.00\n",
      "theta2 = 75.00\n",
      "d3 = 200.00\n"
     ]
    }
   ],
   "source": [
    "print(\"Question 2\")\n",
    "t1 = tMatrix(\"theta1\",  0,      90, 0)\n",
    "t2 = tMatrix(\"theta2\",  0,      90, 0)\n",
    "t3 = tMatrix(0,         \"d3\",   0,  0)\n",
    "fk: tMatrix = t1*t2*t3\n",
    "print(fk)\n",
    "\n",
    "target = [\n",
    "[0.1294,     0.8660,     0.4830 ,     96.59],     \n",
    "[0.2241,      -0.500,     0.8365,     167.30],     \n",
    "[0.9659,           0 ,     -0.2588   ,     -51.76],     \n",
    "[0    ,     0     ,     0     ,     1    ]]\n",
    "\n",
    "ik = fk.ik(target)\n",
    "for key in ik:\n",
    "    if f\"{key}\".find(\"theta\") != -1:\n",
    "        print(f\"{key} = {ik[key]*180/pi:.2f}\")\n",
    "    else:\n",
    "        print(f\"{key} = {ik[key]:.2f}\")"
   ]
  },
  {
   "cell_type": "code",
   "execution_count": null,
   "metadata": {},
   "outputs": [],
   "source": [
    "print(\"Question 2\")\n",
    "t1 = tMatrix(60,  0,      90, 0)\n",
    "t2 = tMatrix(75,  0,      90, 0)\n",
    "t3 = tMatrix(0,         200.00,   0,  0)\n",
    "fk: tMatrix = t1*t2*t3\n",
    "fk.precision = 4\n",
    "print(fk)\n",
    "\n"
   ]
  },
  {
   "cell_type": "code",
   "execution_count": null,
   "metadata": {},
   "outputs": [],
   "source": [
    "print(fk)\n",
    "t0 = tMatrix(0, 0, 0, 0)\n",
    "jacobian = jacobian_god_function([t0, t1, t2, t3], (False, False, True))"
   ]
  }
 ],
 "metadata": {
  "interpreter": {
   "hash": "aee8b7b246df8f9039afb4144a1f6fd8d2ca17a180786b69acc140d282b71a49"
  },
  "kernelspec": {
   "display_name": "Python 3.9.7 64-bit",
   "name": "python3"
  },
  "language_info": {
   "codemirror_mode": {
    "name": "ipython",
    "version": 3
   },
   "file_extension": ".py",
   "mimetype": "text/x-python",
   "name": "python",
   "nbconvert_exporter": "python",
   "pygments_lexer": "ipython3",
   "version": "3.9.7"
  },
  "orig_nbformat": 4
 },
 "nbformat": 4,
 "nbformat_minor": 2
}
